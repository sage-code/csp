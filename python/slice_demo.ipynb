{
  "nbformat": 4,
  "nbformat_minor": 0,
  "metadata": {
    "colab": {
      "name": "slice_demo.ipynb",
      "private_outputs": true,
      "provenance": [],
      "authorship_tag": "ABX9TyO6RxjCFIaMEOxKs6E6bdCc",
      "include_colab_link": true
    },
    "kernelspec": {
      "name": "python3",
      "display_name": "Python 3"
    },
    "language_info": {
      "name": "python"
    }
  },
  "cells": [
    {
      "cell_type": "markdown",
      "metadata": {
        "id": "view-in-github",
        "colab_type": "text"
      },
      "source": [
        "<a href=\"https://colab.research.google.com/github/elucian/python/blob/main/slice_demo.ipynb\" target=\"_parent\"><img src=\"https://colab.research.google.com/assets/colab-badge.svg\" alt=\"Open In Colab\"/></a>"
      ]
    },
    {
      "cell_type": "markdown",
      "source": [
        "Let's create a list A = [1,2,3,4,5,6,7,8,9]"
      ],
      "metadata": {
        "id": "OqNFQ9koqhUt"
      }
    },
    {
      "cell_type": "code",
      "execution_count": null,
      "metadata": {
        "id": "Q8yNLhRmqbM4"
      },
      "outputs": [],
      "source": [
        "A = list(range(1,10,1))\n",
        "print(A)"
      ]
    },
    {
      "cell_type": "markdown",
      "source": [
        "A slice is a new list created with elements from existing list\n",
        "any_list[start:stop]"
      ],
      "metadata": {
        "id": "zAWrmxgSrC5U"
      }
    },
    {
      "cell_type": "code",
      "source": [
        "B = A[2:8]\n",
        "print(B)"
      ],
      "metadata": {
        "id": "mRckHPCurqsB"
      },
      "execution_count": null,
      "outputs": []
    },
    {
      "cell_type": "markdown",
      "source": [
        "Start and stop are optional. \n",
        "Implicit values are the first and the last elements."
      ],
      "metadata": {
        "id": "AJYgSfBqr_qh"
      }
    },
    {
      "cell_type": "code",
      "source": [
        "print(A[7:])\n",
        "print(A[:2])"
      ],
      "metadata": {
        "id": "tsOPyNdmsJo_"
      },
      "execution_count": null,
      "outputs": []
    },
    {
      "cell_type": "markdown",
      "source": [
        "Negative index is equivalend to (count - index + 1)"
      ],
      "metadata": {
        "id": "QYCET96pst6d"
      }
    },
    {
      "cell_type": "code",
      "source": [
        "print(A[-2:])"
      ],
      "metadata": {
        "id": "EAG2Pd93s_ra"
      },
      "execution_count": null,
      "outputs": []
    }
  ]
}