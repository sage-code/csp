{
  "nbformat": 4,
  "nbformat_minor": 0,
  "metadata": {
    "colab": {
      "name": "Copy of function_call.ipynb",
      "provenance": [],
      "authorship_tag": "ABX9TyPw0LRtsok+UQaKY7+dEHrF",
      "include_colab_link": true
    },
    "kernelspec": {
      "name": "python3",
      "display_name": "Python 3"
    },
    "language_info": {
      "name": "python"
    }
  },
  "cells": [
    {
      "cell_type": "markdown",
      "metadata": {
        "id": "view-in-github",
        "colab_type": "text"
      },
      "source": [
        "<a href=\"https://colab.research.google.com/github/elucian/python/blob/main/function_call.ipynb\" target=\"_parent\"><img src=\"https://colab.research.google.com/assets/colab-badge.svg\" alt=\"Open In Colab\"/></a>"
      ]
    },
    {
      "cell_type": "code",
      "execution_count": null,
      "metadata": {
        "colab": {
          "base_uri": "https://localhost:8080/"
        },
        "id": "XkqbiTqOgjNU",
        "outputId": "8ffce74c-616d-4711-902f-69250fc1f497"
      },
      "outputs": [
        {
          "output_type": "stream",
          "name": "stdout",
          "text": [
            "3\n"
          ]
        }
      ],
      "source": [
        "# define a function\n",
        "def test(p):\n",
        "   p += 1    \n",
        "   return p\n",
        "\n",
        "# call a function\n",
        "a = 0\n",
        "a = test(a)\n",
        "a = test(a)\n",
        "a = test(a)\n",
        "\n",
        "print(a)"
      ]
    }
  ]
}