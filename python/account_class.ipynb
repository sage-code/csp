{
  "cells": [
    {
      "cell_type": "markdown",
      "metadata": {
        "colab_type": "text",
        "id": "view-in-github"
      },
      "source": [
        "<a href=\"https://colab.research.google.com/github/elucian/python/blob/main/account_class.ipynb\" target=\"_parent\"><img src=\"https://colab.research.google.com/assets/colab-badge.svg\" alt=\"Open In Colab\"/></a>"
      ]
    },
    {
      "cell_type": "code",
      "execution_count": 14,
      "metadata": {
        "colab": {
          "base_uri": "https://localhost:8080/"
        },
        "id": "su-vzow6oYnV",
        "outputId": "a8a0e417-3a51-4356-f2ec-84d348baf2a7"
      },
      "outputs": [
        {
          "data": {
            "text/plain": [
              "80"
            ]
          },
          "execution_count": 14,
          "metadata": {},
          "output_type": "execute_result"
        }
      ],
      "source": [
        "# define a class\n",
        "class Account:\n",
        "    # class constructor \n",
        "    def __init__(self, p_number, p_type):\n",
        "        self.act_number = p_number\n",
        "        self.act_type = p_type\n",
        "        self._act_amount = 0\n",
        "\n",
        "    #fists class methods\n",
        "    def widraw(self, p_amount):\n",
        "        if (self._act_amount > p_amount):\n",
        "           self._act_amount -= p_amount\n",
        "           result = p_amount\n",
        "        else:\n",
        "           result = self.act_amount\n",
        "           self._act_amount = 0\n",
        "        return result\n",
        "    # second method\n",
        "    def deposit(self, p_amount):\n",
        "        self._act_amount += p_amount\n",
        "    # third method\n",
        "    def closing(self):\n",
        "        result = self._act_amount\n",
        "        self._act_amount = 0\n",
        "        return result    \n",
        "\n",
        "# instantiate account\n",
        "demo_account = Account(42,\"saving\")\n",
        "\n",
        "# make deposit\n",
        "demo_account.deposit(100)\n",
        "demo_account.widraw(20)\n",
        "demo_account._act_amount"
      ]
    },
    {
      "cell_type": "markdown",
      "metadata": {},
      "source": []
    }
  ],
  "metadata": {
    "colab": {
      "authorship_tag": "ABX9TyOcjdyx8txcxVz48UXPUXNY",
      "include_colab_link": true,
      "name": "account_class.ipynb",
      "provenance": []
    },
    "kernelspec": {
      "display_name": "Python 3",
      "name": "python3"
    },
    "language_info": {
      "codemirror_mode": {
        "name": "ipython",
        "version": 3
      },
      "file_extension": ".py",
      "mimetype": "text/x-python",
      "name": "python",
      "nbconvert_exporter": "python",
      "pygments_lexer": "ipython3",
      "version": "3.8.10"
    }
  },
  "nbformat": 4,
  "nbformat_minor": 0
}
