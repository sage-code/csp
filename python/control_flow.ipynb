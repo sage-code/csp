{
  "nbformat": 4,
  "nbformat_minor": 0,
  "metadata": {
    "colab": {
      "name": "control_flow.ipynb",
      "provenance": [],
      "authorship_tag": "ABX9TyO0Nqjr6yNjw/pS07XfgJIO",
      "include_colab_link": true
    },
    "kernelspec": {
      "name": "python3",
      "display_name": "Python 3"
    },
    "language_info": {
      "name": "python"
    }
  },
  "cells": [
    {
      "cell_type": "markdown",
      "metadata": {
        "id": "view-in-github",
        "colab_type": "text"
      },
      "source": [
        "<a href=\"https://colab.research.google.com/github/elucian/python/blob/main/control_flow.ipynb\" target=\"_parent\"><img src=\"https://colab.research.google.com/assets/colab-badge.svg\" alt=\"Open In Colab\"/></a>"
      ]
    },
    {
      "cell_type": "markdown",
      "source": [
        "Decision statement"
      ],
      "metadata": {
        "id": "l7f6TJl12m8K"
      }
    },
    {
      "cell_type": "code",
      "execution_count": 1,
      "metadata": {
        "colab": {
          "base_uri": "https://localhost:8080/"
        },
        "id": "64wxSiNTot9L",
        "outputId": "4844ee51-b061-4a14-cabf-d0abf153e7e9"
      },
      "outputs": [
        {
          "output_type": "stream",
          "name": "stdout",
          "text": [
            "x= 10\n",
            "x is not zero\n"
          ]
        }
      ],
      "source": [
        "# Demo the \"if\" statement\n",
        "x = int(input(\"x= \"))\n",
        "if (x == 0):\n",
        "   # true block\n",
        "   print(\"x is zero\")\n",
        "else:\n",
        "   # false block\n",
        "   print(\"x is not zero\")\n",
        "pass #end"
      ]
    },
    {
      "cell_type": "markdown",
      "source": [
        "Decision Ladder"
      ],
      "metadata": {
        "id": "jbMF_HIZ2kz4"
      }
    },
    {
      "cell_type": "code",
      "source": [
        "# decision ladder\n",
        "x = int(input(\"X = \"))\n",
        "if x < 0:\n",
        "    x = 0\n",
        "    print('Negative changed to zero')\n",
        "elif x == 0:\n",
        "    print('Zero')\n",
        "elif x == 1:\n",
        "    print('Single')\n",
        "else:\n",
        "    print('More than one')\n",
        "pass #end if\n",
        "print(\"x=\",x)"
      ],
      "metadata": {
        "colab": {
          "base_uri": "https://localhost:8080/"
        },
        "id": "pkPsWcrf-w0d",
        "outputId": "430dc1c5-280f-487f-86b8-2cec1ede765f"
      },
      "execution_count": 2,
      "outputs": [
        {
          "output_type": "stream",
          "name": "stdout",
          "text": [
            "X = 1\n",
            "Single\n",
            "x= 1\n"
          ]
        }
      ]
    },
    {
      "cell_type": "markdown",
      "source": [
        "Repetitive Statement"
      ],
      "metadata": {
        "id": "5eyHVfZxGV_x"
      }
    },
    {
      "cell_type": "code",
      "source": [
        "import time\n",
        "v = 0 \n",
        "while True: \n",
        "    print(\"forever young\") \n",
        "    v += 1 \n",
        "    time.sleep(1)\n",
        "    if v == 15: break \n",
        "print(\"I was young forever\")"
      ],
      "metadata": {
        "colab": {
          "base_uri": "https://localhost:8080/",
          "height": 495
        },
        "id": "vZJ8sRlaGZYy",
        "outputId": "a51a99e9-77e7-4c90-a0dc-fbc8d5e09e5d"
      },
      "execution_count": 4,
      "outputs": [
        {
          "output_type": "stream",
          "name": "stdout",
          "text": [
            "forever young\n",
            "forever young\n",
            "forever young\n",
            "forever young\n",
            "forever young\n",
            "forever young\n",
            "forever young\n",
            "forever young\n",
            "forever young\n",
            "forever young\n",
            "forever young\n",
            "forever young\n",
            "forever young\n",
            "forever young\n",
            "forever young\n"
          ]
        },
        {
          "output_type": "error",
          "ename": "KeyboardInterrupt",
          "evalue": "ignored",
          "traceback": [
            "\u001b[0;31m---------------------------------------------------------------------------\u001b[0m",
            "\u001b[0;31mKeyboardInterrupt\u001b[0m                         Traceback (most recent call last)",
            "\u001b[0;32m<ipython-input-4-d1977af7908c>\u001b[0m in \u001b[0;36m<module>\u001b[0;34m()\u001b[0m\n\u001b[1;32m      4\u001b[0m     \u001b[0mprint\u001b[0m\u001b[0;34m(\u001b[0m\u001b[0;34m\"forever young\"\u001b[0m\u001b[0;34m)\u001b[0m\u001b[0;34m\u001b[0m\u001b[0;34m\u001b[0m\u001b[0m\n\u001b[1;32m      5\u001b[0m     \u001b[0mv\u001b[0m \u001b[0;34m+=\u001b[0m \u001b[0;36m1\u001b[0m\u001b[0;34m\u001b[0m\u001b[0;34m\u001b[0m\u001b[0m\n\u001b[0;32m----> 6\u001b[0;31m     \u001b[0mtime\u001b[0m\u001b[0;34m.\u001b[0m\u001b[0msleep\u001b[0m\u001b[0;34m(\u001b[0m\u001b[0;36m1\u001b[0m\u001b[0;34m)\u001b[0m\u001b[0;34m\u001b[0m\u001b[0;34m\u001b[0m\u001b[0m\n\u001b[0m\u001b[1;32m      7\u001b[0m     \u001b[0;32mif\u001b[0m \u001b[0mv\u001b[0m \u001b[0;34m==\u001b[0m \u001b[0;36m15\u001b[0m\u001b[0;34m:\u001b[0m \u001b[0;32mbreak\u001b[0m\u001b[0;34m\u001b[0m\u001b[0;34m\u001b[0m\u001b[0m\n\u001b[1;32m      8\u001b[0m \u001b[0mprint\u001b[0m\u001b[0;34m(\u001b[0m\u001b[0;34m\"I was young forever\"\u001b[0m\u001b[0;34m)\u001b[0m\u001b[0;34m\u001b[0m\u001b[0;34m\u001b[0m\u001b[0m\n",
            "\u001b[0;31mKeyboardInterrupt\u001b[0m: "
          ]
        }
      ]
    },
    {
      "cell_type": "markdown",
      "source": [
        "For Loop"
      ],
      "metadata": {
        "id": "6_XTja5rJmBv"
      }
    },
    {
      "cell_type": "code",
      "source": [
        "words = ['I', 'like', 'to', \n",
        "         'learn', 'python']\n",
        "for word in words:\n",
        "     print(len(word), word)\n"
      ],
      "metadata": {
        "colab": {
          "base_uri": "https://localhost:8080/"
        },
        "id": "rD2fZ9cGJs9-",
        "outputId": "41d85f8c-cc61-480d-86e6-c0b4da1cea69"
      },
      "execution_count": 5,
      "outputs": [
        {
          "output_type": "stream",
          "name": "stdout",
          "text": [
            "1 I\n",
            "4 like\n",
            "2 to\n",
            "5 learn\n",
            "6 python\n"
          ]
        }
      ]
    },
    {
      "cell_type": "markdown",
      "source": [
        "Range()"
      ],
      "metadata": {
        "id": "WiC8amOQKsRL"
      }
    },
    {
      "cell_type": "code",
      "source": [
        "for i in range(10,15): \n",
        "    print(i)\n",
        "\n"
      ],
      "metadata": {
        "colab": {
          "base_uri": "https://localhost:8080/"
        },
        "id": "s1YzxZLGKvc1",
        "outputId": "6e177458-11fa-49b7-a987-d913a914e3d6"
      },
      "execution_count": 7,
      "outputs": [
        {
          "output_type": "stream",
          "name": "stdout",
          "text": [
            "10\n",
            "11\n",
            "12\n",
            "13\n",
            "14\n"
          ]
        }
      ]
    }
  ]
}