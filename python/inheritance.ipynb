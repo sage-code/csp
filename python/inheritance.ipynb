{
  "nbformat": 4,
  "nbformat_minor": 0,
  "metadata": {
    "colab": {
      "name": "inheritance.ipynb",
      "provenance": [],
      "authorship_tag": "ABX9TyPIonO74ePcKyx8nXMh1Axt",
      "include_colab_link": true
    },
    "kernelspec": {
      "name": "python3",
      "display_name": "Python 3"
    },
    "language_info": {
      "name": "python"
    }
  },
  "cells": [
    {
      "cell_type": "markdown",
      "metadata": {
        "id": "view-in-github",
        "colab_type": "text"
      },
      "source": [
        "<a href=\"https://colab.research.google.com/github/elucian/python/blob/main/inheritance.ipynb\" target=\"_parent\"><img src=\"https://colab.research.google.com/assets/colab-badge.svg\" alt=\"Open In Colab\"/></a>"
      ]
    },
    {
      "cell_type": "markdown",
      "source": [
        "All classes have a common super-class: \"object\""
      ],
      "metadata": {
        "id": "eH_9reJCORtT"
      }
    },
    {
      "cell_type": "code",
      "execution_count": null,
      "metadata": {
        "colab": {
          "base_uri": "https://localhost:8080/"
        },
        "id": "2_z0aUGJOMTg",
        "outputId": "f79f9f68-abd2-418f-da81-655431f729ea"
      },
      "outputs": [
        {
          "output_type": "stream",
          "name": "stdout",
          "text": [
            "canine Buddy ['roll over', 'play dead']\n",
            "feline Flufy [] say:\n",
            "Buddy say: ham\n",
            "Flufy say: miau\n"
          ]
        }
      ],
      "source": [
        "# base class\n",
        "class Animal:\n",
        "    def __init__(self, kind): \n",
        "        self.kind   = kind\n",
        "        self.tricks = []\n",
        "    def speak(self): pass\n",
        "# inherited class Cat\n",
        "class Cat(Animal):\n",
        "    def __init__(self, name):\n",
        "        super().__init__(\"feline\")    \n",
        "        self.name = name\n",
        "    def speak(self):\n",
        "        return \"miau\"\n",
        "# inherited class Dog\n",
        "class Dog(Animal):\n",
        "    def __init__(self, name):\n",
        "        super().__init__(\"canine\")\n",
        "        self.name = name\n",
        "    def add_trick(self, trick):\n",
        "        self.tricks.append(trick)\n",
        "    def speak(self):\n",
        "        return \"ham\"\n",
        "\n",
        "# demonstrate polymorphism\n",
        "def test(a: Animal):\n",
        "    print(a.name, \"say:\", a.speak())\n",
        "\n",
        "# create two objects\n",
        "d = Dog(\"Buddy\")\n",
        "c = Cat(\"Flufy\")\n",
        "# call methods \n",
        "d.add_trick('roll over')\n",
        "d.add_trick('play dead')\n",
        "# print objects\n",
        "print(d.kind, d.name, d.tricks)\n",
        "print(c.kind, c.name, c.tricks)\n",
        "# test polimorphism\n",
        "test(d)\n",
        "test(c)\n"
      ]
    }
  ]
}