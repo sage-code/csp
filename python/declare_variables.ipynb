{
  "nbformat": 4,
  "nbformat_minor": 0,
  "metadata": {
    "colab": {
      "name": "declare_variables.ipynb",
      "provenance": [],
      "collapsed_sections": [],
      "authorship_tag": "ABX9TyPwLJs8Xgousx4Qb3smGoiY",
      "include_colab_link": true
    },
    "kernelspec": {
      "name": "python3",
      "display_name": "Python 3"
    },
    "language_info": {
      "name": "python"
    }
  },
  "cells": [
    {
      "cell_type": "markdown",
      "metadata": {
        "id": "view-in-github",
        "colab_type": "text"
      },
      "source": [
        "<a href=\"https://colab.research.google.com/github/elucian/python/blob/main/declare_variables.ipynb\" target=\"_parent\"><img src=\"https://colab.research.google.com/assets/colab-badge.svg\" alt=\"Open In Colab\"/></a>"
      ]
    },
    {
      "cell_type": "markdown",
      "source": [
        "Variable and initialization"
      ],
      "metadata": {
        "id": "-onCuLLAvMnN"
      }
    },
    {
      "cell_type": "code",
      "source": [
        "# declare basic variables\n",
        "s = \"test\"\n",
        "a = 0; b = 0; c = 0\n",
        "x = y = z = 0\n",
        "\n",
        "# check the initial values\n",
        "print(s)\n",
        "print(a,b,c) \n",
        "print(x,y,z)    "
      ],
      "metadata": {
        "colab": {
          "base_uri": "https://localhost:8080/"
        },
        "id": "xuQ9o-FbvhG7",
        "outputId": "1bf7ded4-ede2-40f4-d980-3262be9e1c93"
      },
      "execution_count": 1,
      "outputs": [
        {
          "output_type": "stream",
          "name": "stdout",
          "text": [
            "test\n",
            "0 0 0\n",
            "0 0 0\n"
          ]
        }
      ]
    },
    {
      "cell_type": "markdown",
      "source": [
        "Declare variable with type hint"
      ],
      "metadata": {
        "id": "OnYjsa-kAqWr"
      }
    },
    {
      "cell_type": "code",
      "execution_count": null,
      "metadata": {
        "colab": {
          "base_uri": "https://localhost:8080/"
        },
        "id": "GmBpvaCc_Zib",
        "outputId": "28f5fbd6-7d04-4f77-b236-0d5f89a466eb"
      },
      "outputs": [
        {
          "output_type": "stream",
          "name": "stdout",
          "text": [
            "5\n",
            "test\n"
          ]
        }
      ],
      "source": [
        "#declare a variable with type\n",
        "x: int = 5\n",
        "print(x)\n",
        "\n",
        "#change data value and type\n",
        "x: str = \"test\"\n",
        "print(x)"
      ]
    },
    {
      "cell_type": "markdown",
      "source": [
        "Collections declared using type inference"
      ],
      "metadata": {
        "id": "u5tTIvtRAj6Q"
      }
    },
    {
      "cell_type": "code",
      "source": [
        "# Define a list of elements \n",
        "my_list = [1,2,3,4,5,1,1,0,5] \n",
        "\n",
        "# Define a tuple of elements \n",
        "my_tuple = (1,2,3,4,5) \n",
        "\n",
        "# Define a set of elements \n",
        "my_set = {1,2,3,4,5,6,7,8,9,10,1,2,2,10} \n",
        "\n",
        "# Define a dictionary \n",
        "my_dic = {\"a\":1,\"b\":2,\"c\":3}\n",
        "\n",
        "print(my_list)\n",
        "print(my_tuple)\n",
        "print(my_set)\n",
        "print(my_dic)"
      ],
      "metadata": {
        "colab": {
          "base_uri": "https://localhost:8080/"
        },
        "id": "SI55WxesAmWm",
        "outputId": "7062f565-4c66-447b-8458-cca4d9bdce9a"
      },
      "execution_count": 4,
      "outputs": [
        {
          "output_type": "stream",
          "name": "stdout",
          "text": [
            "[1, 2, 3, 4, 5, 1, 1, 0, 5]\n",
            "(1, 2, 3, 4, 5)\n",
            "{1, 2, 3, 4, 5, 6, 7, 8, 9, 10}\n",
            "{'a': 1, 'b': 2, 'c': 3}\n"
          ]
        }
      ]
    }
  ]
}